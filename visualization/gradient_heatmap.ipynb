{
 "cells": [
  {
   "cell_type": "code",
   "execution_count": 2,
   "metadata": {
    "collapsed": true
   },
   "outputs": [
    {
     "name": "stdout",
     "output_type": "stream",
     "text": [
      "2021-03-17 09:14:55,295 DEBUG : Loaded backend nbAgg version unknown.\n"
     ]
    },
    {
     "name": "stderr",
     "output_type": "stream",
     "text": [
      "usage: ipykernel_launcher.py [-h] [--variable VARIABLE]\n",
      "ipykernel_launcher.py: error: unrecognized arguments: -f /Users/m_vys/Library/Jupyter/runtime/kernel-0a016d1a-92f6-439a-a5b2-b699f1e978b2.json\n",
      "/Users/m_vys/Documents/matfyz/magistr/diplomka/ECoG_decoders/venv/lib/python3.9/site-packages/IPython/core/interactiveshell.py:3445: UserWarning: To exit: use 'exit', 'quit', or Ctrl-D.\n",
      "  warn(\"To exit: use 'exit', 'quit', or Ctrl-D.\", stacklevel=1)\n"
     ]
    },
    {
     "ename": "SystemExit",
     "evalue": "2",
     "output_type": "error",
     "traceback": [
      "An exception has occurred, use %tb to see the full traceback.\n",
      "\u001B[0;31mSystemExit\u001B[0m\u001B[0;31m:\u001B[0m 2\n"
     ]
    }
   ],
   "source": [
    "import argparse\n",
    "import random\n",
    "from pathlib import Path\n",
    "import matplotlib.pyplot as plt\n",
    "import numpy as np\n",
    "import pandas\n",
    "import torch\n",
    "from braindecode import EEGRegressor\n",
    "from braindecode.models.util import get_output_shape\n",
    "from braindecode.util import np_to_var\n",
    "from skorch.callbacks import TensorBoard, Checkpoint\n",
    "\n",
    "from Interpretation.interpretation import get_corr_coef\n",
    "from Training.CorrelationMonitor1D import CorrelationMonitor1D\n",
    "from Training.train import get_model, get_writer\n",
    "from data.pre_processing import get_num_of_channels, Data\n",
    "from global_config import home, input_time_length, cuda, random_seed\n",
    "from models.DoubleModel import DoubleModel\n",
    "from models.Model import load_model\n",
    "\n",
    "%matplotlib notebook\n",
    "\n",
    "parser = argparse.ArgumentParser()\n",
    "parser.add_argument('--variable', default=1, type=int)\n",
    "\n",
    "args = parser.parse_args()\n",
    "dilation = [None]\n",
    "kernel_size = [3, 3, 3, 3]\n",
    "trajectory_index = args.variable\n",
    "low_pass = False\n",
    "shift_by = None\n",
    "lr = 0.001\n",
    "shift = True\n",
    "max_train_epochs = 100\n",
    "if trajectory_index == 0:\n",
    "    model_string = f'sbp0_sm_vel'\n",
    "    variable = 'vel'\n",
    "else:\n",
    "    model_string = 'sbp0_sm_absVel'\n",
    "    variable = 'absVel'\n",
    "all_xs = []\n",
    "all_ys = []\n",
    "all_zs = []\n",
    "corr_coefs_full = []\n",
    "corr_coefs_hp = []\n",
    "for patient_index in range(1, 13):\n",
    "    input_channels = get_num_of_channels(home + f'/previous_work/P{patient_index}_data.mat')\n",
    "    # model, changed_model_full, model_name = get_model(input_channels, input_time_length,\n",
    "    #                                                   dilations=dilation[0],\n",
    "    #                                                   kernel_sizes=kernel_size, padding=False)\n",
    "    changed_model_full = load_model(f'/models/saved_models/lr_0.001/sbp1_sm_{variable}_k_3333/sbp1_sm_{variable}_k_3333_p_{patient_index}/best_model_split_0')\n",
    "    # _, changed_model_hp, _ = get_model(input_channels, input_time_length,\n",
    "    #                                    dilations=dilation[0],\n",
    "    #                                    kernel_sizes=kernel_size, padding=False)\n",
    "    changed_model_hp = load_model(f'/models/saved_models/lr_0.001/sbp1_hps_{variable}_k_3333/sbp1_hps_{variable}_k_3333_p_{patient_index}/best_model_split_0')\n",
    "    model_name = 'k3_d3'\n",
    "    n_preds_per_input = get_output_shape(changed_model_full, input_channels, input_time_length)[1]\n",
    "    small_window = input_time_length - n_preds_per_input + 1\n",
    "    if shift_by is None:\n",
    "        shift_index = int(small_window / 2)\n",
    "    else:\n",
    "        shift_index = int((small_window / 2) - shift_by)\n",
    "\n",
    "    data_full = Data(home + f'/previous_work/P{patient_index}_data.mat', num_of_folds=-1,\n",
    "                     low_pass=low_pass,\n",
    "                     trajectory_index=trajectory_index, shift_data=shift, high_pass=False,\n",
    "                     shift_by=int(shift_index),\n",
    "                     valid_high_pass=False, low_pass_training=False, double_training=True)\n",
    "    data_hp = Data(home + f'/previous_work/P{patient_index}_data.mat', num_of_folds=-1,\n",
    "                   low_pass=low_pass,\n",
    "                   trajectory_index=trajectory_index, shift_data=shift, high_pass=True,\n",
    "                   shift_by=int(shift_index),\n",
    "                   valid_high_pass=False, low_pass_training=False)\n",
    "    output_dir = f'{model_string}_{model_name}/{model_string}_{model_name}_p_{patient_index}'\n",
    "    correlation_monitor = CorrelationMonitor1D(input_time_length=input_time_length,\n",
    "                                               output_dir=output_dir)\n",
    "\n",
    "    if cuda:\n",
    "        device = 'cuda'\n",
    "        changed_model_full = changed_model_full.cuda()\n",
    "        changed_model_hp = changed_model_hp.cuda()\n",
    "\n",
    "    else:\n",
    "        device = 'cpu'\n",
    "\n",
    "    model = DoubleModel(changed_model_full, changed_model_hp)\n",
    "\n",
    "    data_hp.cut_input(input_time_length, n_preds_per_input, False)\n",
    "    data_full.cut_input(input_time_length, n_preds_per_input, False)"
   ]
  },
  {
   "cell_type": "code",
   "execution_count": null,
   "outputs": [],
   "source": [
    "    corr_coef_full = get_corr_coef(data_full.test_set, changed_model_full)\n",
    "    corr_coef_hp = get_corr_coef(data_hp.test_set, changed_model_hp)\n",
    "    print('coef_full:', corr_coef_full, 'coef_hp:', corr_coef_hp)\n",
    "    corr_coefs_full.append(corr_coef_full)\n",
    "    corr_coefs_hp.append(corr_coef_hp)\n",
    "    output = f'{home}/results/model_to_true_predictions/{model_string}_{model_name}/valid/graph_patient_{patient_index}_3d.png'\n",
    "    Path(f'{home}/results/model_to_true_predictions/{model_string}_{model_name}/valid_data/').mkdir(parents=True, exist_ok=True)\n"
   ],
   "metadata": {
    "collapsed": false,
    "pycharm": {
     "name": "#%%\n"
    }
   }
  },
  {
   "cell_type": "code",
   "execution_count": null,
   "outputs": [],
   "source": [
    "    xs = []\n",
    "    ys = []\n",
    "    zs = []\n",
    "    for input_full, input_hp, correct_out in zip(data_full.test_set.X, data_hp.test_set.X, data_full.test_set.y):\n",
    "        out_full = changed_model_full.double()(np_to_var(input_full.reshape([1, input_full.shape[0], input_full.shape[1], input_full.shape[2]])).double())\n",
    "        out_hp = changed_model_hp.double()(np_to_var(input_hp.reshape(1, input_full.shape[0], input_full.shape[1], input_full.shape[2])).double())\n",
    "        xs.append(out_full)\n",
    "        ys.append(out_hp)\n",
    "        zs.append(correct_out.reshape([1, correct_out.shape[0]]))\n",
    "        for x, y, z in zip(out_full[0], out_hp[0], correct_out):\n",
    "            string = f'[{float(x)}, {float(y)}, {z}],\\n'\n",
    "        # out_full = out_full.reshape([out_full.shape[1]])\n",
    "        # out_hp = out_hp.reshape([out_hp.shape[1]])\n",
    "\n",
    "        print(correct_out.shape)\n",
    "        fig = plt.figure()\n",
    "\n",
    "        ax = fig.add_subplot(111, projection='3d')\n",
    "        ax.scatter3D(out_full, out_hp, correct_out, c=correct_out, cmap='Greens')\n",
    "        ax.set_xlabel('Full model predictions')\n",
    "        ax.set_ylabel('High-pass model predictions')\n",
    "        ax.set_zlabel('True values')\n",
    "        plt.show()\n"
   ],
   "metadata": {
    "collapsed": false,
    "pycharm": {
     "name": "#%%\n"
    }
   }
  }
 ],
 "metadata": {
  "kernelspec": {
   "display_name": "Python 3",
   "language": "python",
   "name": "python3"
  },
  "language_info": {
   "codemirror_mode": {
    "name": "ipython",
    "version": 2
   },
   "file_extension": ".py",
   "mimetype": "text/x-python",
   "name": "python",
   "nbconvert_exporter": "python",
   "pygments_lexer": "ipython2",
   "version": "2.7.6"
  }
 },
 "nbformat": 4,
 "nbformat_minor": 0
}